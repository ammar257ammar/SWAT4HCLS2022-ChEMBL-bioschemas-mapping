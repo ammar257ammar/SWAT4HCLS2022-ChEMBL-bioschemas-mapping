{
 "cells": [
  {
   "cell_type": "code",
   "execution_count": null,
   "id": "3a6593f7",
   "metadata": {},
   "outputs": [],
   "source": [
    "from SPARQLWrapper import SPARQLWrapper, SPARQLWrapper2, JSON\n",
    "from pathlib import Path\n",
    "import multiprocessing as mp  \n",
    "from multiprocessing import  Pool \n",
    "from rdflib import Graph\n",
    "import os"
   ]
  },
  {
   "cell_type": "code",
   "execution_count": null,
   "id": "7996a547",
   "metadata": {},
   "outputs": [],
   "source": [
    "import urllib.request\n",
    "\n",
    "with urllib.request.urlopen('https://chemblmirror.rdf.bigcat-bioinformatics.org/sparql') as response:\n",
    "    print(response.read())"
   ]
  },
  {
   "cell_type": "code",
   "execution_count": null,
   "id": "1b89e90c",
   "metadata": {},
   "outputs": [],
   "source": [
    "def fetchBatch(sparql, values_arr, entity):\n",
    "    \n",
    "    results = Graph()\n",
    "    \n",
    "    for file in os.listdir(\"queries\"):\n",
    "        if file.startswith(\"chembl-to-bioschema-\"+entity):\n",
    "            \n",
    "            queryString = Path(\"queries/\"+file).read_text()\n",
    "            queryString = queryString.replace(\"@_MOLS_@\", values_arr)\n",
    "    \n",
    "            sparql.setQuery(queryString)\n",
    "            results += sparql.query().convert()\n",
    "    \n",
    "    return results"
   ]
  },
  {
   "cell_type": "code",
   "execution_count": null,
   "id": "e0ce779a",
   "metadata": {},
   "outputs": [],
   "source": [
    "def getConstructKgForRange(offset, sparql, sparql2, entity):\n",
    "\n",
    "    try:\n",
    "        \n",
    "        queryStringGetAllIds = \"Select ?iri where { Select ?iri where { ?iri a <http://rdf.ebi.ac.uk/terms/chembl#\"+entity+\"> } order by ?iri } limit 100000 offset \"\n",
    "\n",
    "        offset = offset * 100000\n",
    "\n",
    "        queryStringGetAllIds = queryStringGetAllIds.strip() + \" \" +str(offset)\n",
    "\n",
    "        sparql.setQuery(queryStringGetAllIds)\n",
    "        results = sparql.query()\n",
    "\n",
    "        j = 1\n",
    "\n",
    "        values_arr = \"\"\n",
    "\n",
    "        output = Graph()\n",
    "\n",
    "        for result in results.bindings:\n",
    "\n",
    "            if(j % 20 == 0):\n",
    "\n",
    "                values_arr += \"<\"+str(result[\"iri\"].value)+\"> \"\n",
    "\n",
    "                output += fetchBatch(sparql2, values_arr, entity)\n",
    "\n",
    "                values_arr = \"\"\n",
    "                \n",
    "                print(\"batch \" + str(j))\n",
    "\n",
    "            else:\n",
    "                values_arr += \"<\"+str(result[\"iri\"].value)+\"> \"\n",
    "\n",
    "            j = j + 1\n",
    "\n",
    "        if(values_arr != \"\"):\n",
    "            output += fetchBatch(sparql2, values_arr, entity)\n",
    "\n",
    "        with open(\"json-ld-output/chembl-\"+entity+\"-\"+str(offset)+\".jsonld\", \"w\") as file:\n",
    "            file.write(output.serialize(format='json-ld', indent=0))\n",
    "\n",
    "        print(\"Got JSON-LD for batch \" + str(j))\n",
    "    \n",
    "    except Exception:\n",
    "        getConstructKgForRange(offset, sparql, sparql2, entity)"
   ]
  },
  {
   "cell_type": "code",
   "execution_count": null,
   "id": "af41f5ce",
   "metadata": {},
   "outputs": [],
   "source": [
    "sparql = SPARQLWrapper2(\"https://chemblmirror.rdf.bigcat-bioinformatics.org/sparql\")\n",
    "sparql2 = SPARQLWrapper(\"https://chemblmirror.rdf.bigcat-bioinformatics.org/sparql\")\n",
    "\n",
    "for i in range(0,20):\n",
    "    getConstructKgForRange(i, sparql, sparql2, \"SmallMolecule\")"
   ]
  },
  {
   "cell_type": "code",
   "execution_count": null,
   "id": "1c04013e",
   "metadata": {},
   "outputs": [],
   "source": [
    "sparql = SPARQLWrapper2(\"https://chemblmirror.rdf.bigcat-bioinformatics.org/sparql\")\n",
    "sparql2 = SPARQLWrapper(\"https://chemblmirror.rdf.bigcat-bioinformatics.org/sparql\")\n",
    "\n",
    "getConstructKgForRange(0, sparql, sparql2, \"SingleProtein\")"
   ]
  }
 ],
 "metadata": {
  "kernelspec": {
   "display_name": "Python 3",
   "language": "python",
   "name": "python3"
  },
  "language_info": {
   "codemirror_mode": {
    "name": "ipython",
    "version": 3
   },
   "file_extension": ".py",
   "mimetype": "text/x-python",
   "name": "python",
   "nbconvert_exporter": "python",
   "pygments_lexer": "ipython3",
   "version": "3.8.8"
  }
 },
 "nbformat": 4,
 "nbformat_minor": 5
}
